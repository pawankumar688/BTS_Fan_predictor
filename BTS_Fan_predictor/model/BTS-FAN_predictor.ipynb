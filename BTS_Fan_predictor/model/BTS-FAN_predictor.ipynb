{
 "cells": [
  {
   "cell_type": "markdown",
   "id": "c26b21d6-8981-4f9b-af96-62aff4356668",
   "metadata": {},
   "source": [
    "# BTS FAN Predinctor:\n",
    "Bangtan Boys every one know about BTS, if not atlest  you heard about it once in while, but if you really didn't heard at all then ask you 16 year old to 18 year old sister, firend, or someone you know if they use social media a lot they will explain you every each thing about BTS, about there group members, about there hits songs, about there relationship, and even about there blood type, you don't bleave me right, I'm talking with my expericen, I let you know I comes from a very small city of pakistan which might be 1/12 of the Newyork city. So and my model is about to predict if girl or women is fan or likes the BTS or not, I created my own datasets about this topic which have 100 number of rows which, I created in one hour, I will unpdate it in future for batter prediction for the model, so think of this model as a prototype. So lets start!"
   ]
  },
  {
   "cell_type": "markdown",
   "id": "d0d090e8-8d54-47d6-b31f-4e4e7a71b4bb",
   "metadata": {},
   "source": [
    "First we need to import all the librarys which will be use for this project you can see down blow.\n",
    "This is a classification problem so we import models for classificatoin."
   ]
  },
  {
   "cell_type": "code",
   "execution_count": 2,
   "id": "5d73f10f-8d6f-481d-9382-e4b253348257",
   "metadata": {},
   "outputs": [],
   "source": [
    "import numpy as np \n",
    "import seaborn as sns\n",
    "import pandas as pd\n",
    "import matplotlib.pyplot as plt\n",
    "from sklearn.model_selection import train_test_split\n",
    "from sklearn import metrics\n",
    "from sklearn.preprocessing import StandardScaler\n",
    "from sklearn.metrics import accuracy_score\n",
    "from sklearn.linear_model import LogisticRegression\n",
    "from  sklearn import svm"
   ]
  },
  {
   "cell_type": "markdown",
   "id": "d1b983d7-3507-48ad-b8c5-0f1e386df19e",
   "metadata": {},
   "source": [
    "#Note that in above I imported two classification model LogesticRegession and svm though I can use more classification model for small dataset we are having, this would be enogh but I will try new calssification model in future when I import new datainput in my dataset "
   ]
  },
  {
   "cell_type": "code",
   "execution_count": 3,
   "id": "9e7bee18-6c96-4793-b8af-b398b22fcf71",
   "metadata": {},
   "outputs": [],
   "source": [
    "df = pd.read_csv('BTS fan girl.csv')"
   ]
  },
  {
   "cell_type": "markdown",
   "id": "c99ce50f-5905-460a-9adf-8642484db4b2",
   "metadata": {},
   "source": [
    "#df stands for dataframe which is in this case BTS fan girl dataset, so don't get confuse when you see df instead BTS fan girl.csv file we stored it in df using pandas.\n",
    "And in blow you can see you will check the datasets play with data, handel the missing value if the sets have any and convert string value into numerical, b\\c computer only understands numbers not words."
   ]
  },
  {
   "cell_type": "code",
   "execution_count": 4,
   "id": "687267df-48c9-4dd8-9ce2-d6c7805c606f",
   "metadata": {},
   "outputs": [
    {
     "data": {
      "text/html": [
       "<div>\n",
       "<style scoped>\n",
       "    .dataframe tbody tr th:only-of-type {\n",
       "        vertical-align: middle;\n",
       "    }\n",
       "\n",
       "    .dataframe tbody tr th {\n",
       "        vertical-align: top;\n",
       "    }\n",
       "\n",
       "    .dataframe thead th {\n",
       "        text-align: right;\n",
       "    }\n",
       "</style>\n",
       "<table border=\"1\" class=\"dataframe\">\n",
       "  <thead>\n",
       "    <tr style=\"text-align: right;\">\n",
       "      <th></th>\n",
       "      <th>Unnamed: 0</th>\n",
       "      <th>Age</th>\n",
       "      <th>Watch_K-pop</th>\n",
       "      <th>use _social_media_actively</th>\n",
       "      <th>likes_bts</th>\n",
       "    </tr>\n",
       "  </thead>\n",
       "  <tbody>\n",
       "    <tr>\n",
       "      <th>0</th>\n",
       "      <td>1</td>\n",
       "      <td>33</td>\n",
       "      <td>yes</td>\n",
       "      <td>yes</td>\n",
       "      <td>yes</td>\n",
       "    </tr>\n",
       "    <tr>\n",
       "      <th>1</th>\n",
       "      <td>2</td>\n",
       "      <td>38</td>\n",
       "      <td>no</td>\n",
       "      <td>yes</td>\n",
       "      <td>no</td>\n",
       "    </tr>\n",
       "    <tr>\n",
       "      <th>2</th>\n",
       "      <td>3</td>\n",
       "      <td>32</td>\n",
       "      <td>yes</td>\n",
       "      <td>yes</td>\n",
       "      <td>yes</td>\n",
       "    </tr>\n",
       "    <tr>\n",
       "      <th>3</th>\n",
       "      <td>4</td>\n",
       "      <td>56</td>\n",
       "      <td>no</td>\n",
       "      <td>no</td>\n",
       "      <td>no</td>\n",
       "    </tr>\n",
       "    <tr>\n",
       "      <th>4</th>\n",
       "      <td>5</td>\n",
       "      <td>64</td>\n",
       "      <td>no</td>\n",
       "      <td>no</td>\n",
       "      <td>no</td>\n",
       "    </tr>\n",
       "  </tbody>\n",
       "</table>\n",
       "</div>"
      ],
      "text/plain": [
       "   Unnamed: 0  Age Watch_K-pop use _social_media_actively likes_bts\n",
       "0           1   33         yes                        yes       yes\n",
       "1           2   38          no                        yes        no\n",
       "2           3   32         yes                        yes       yes\n",
       "3           4   56          no                         no        no\n",
       "4           5   64          no                         no        no"
      ]
     },
     "execution_count": 4,
     "metadata": {},
     "output_type": "execute_result"
    }
   ],
   "source": [
    "df.head()"
   ]
  },
  {
   "cell_type": "code",
   "execution_count": 5,
   "id": "5f0ea4b9-d74b-4af8-96d1-6ef023d5ff3a",
   "metadata": {},
   "outputs": [
    {
     "data": {
      "text/plain": [
       "100"
      ]
     },
     "execution_count": 5,
     "metadata": {},
     "output_type": "execute_result"
    }
   ],
   "source": [
    "len(df)"
   ]
  },
  {
   "cell_type": "code",
   "execution_count": 6,
   "id": "6483aa9a-8eae-4ef8-b9a6-d97e1c7ac9e2",
   "metadata": {},
   "outputs": [
    {
     "data": {
      "text/plain": [
       "Unnamed: 0                    0\n",
       "Age                           0\n",
       "Watch_K-pop                   0\n",
       "use _social_media_actively    0\n",
       "likes_bts                     0\n",
       "dtype: int64"
      ]
     },
     "execution_count": 6,
     "metadata": {},
     "output_type": "execute_result"
    }
   ],
   "source": [
    "df.isnull().sum()"
   ]
  },
  {
   "cell_type": "code",
   "execution_count": 7,
   "id": "3db57067-b3f0-4c8e-bce4-9dcb2d8bdf75",
   "metadata": {},
   "outputs": [
    {
     "data": {
      "text/plain": [
       "0"
      ]
     },
     "execution_count": 7,
     "metadata": {},
     "output_type": "execute_result"
    }
   ],
   "source": [
    "df.duplicated().sum()"
   ]
  },
  {
   "cell_type": "code",
   "execution_count": 8,
   "id": "a250639a-23c8-49dd-b486-0d35c78b8014",
   "metadata": {},
   "outputs": [],
   "source": [
    "df.replace({'Watch_K-pop':{'yes':1,'no':0}}, inplace = True)\n",
    "df.replace({'use _social_media_actively':{'yes':1,'no':0}}, inplace = True)\n",
    "df.replace({'likes_bts':{'yes':1,'no':0}}, inplace = True)"
   ]
  },
  {
   "cell_type": "markdown",
   "id": "fe978787-9669-4a2f-ae23-d8d90696b680",
   "metadata": {},
   "source": [
    "Above you saw how to convert words in to numbers, what I mentiond it above now you see in blow if there is a column have no use in use case then we going to drop if becouse we feed the data which have no use case, it helps model to make better decission "
   ]
  },
  {
   "cell_type": "code",
   "execution_count": 9,
   "id": "2682cc2d-0e2e-4f3b-bf67-af57408d332e",
   "metadata": {},
   "outputs": [],
   "source": [
    "df.drop(columns='Unnamed: 0', inplace= True)"
   ]
  },
  {
   "cell_type": "code",
   "execution_count": 10,
   "id": "d0d05a63-96dc-404c-866d-394cac8d53c8",
   "metadata": {},
   "outputs": [
    {
     "data": {
      "text/html": [
       "<div>\n",
       "<style scoped>\n",
       "    .dataframe tbody tr th:only-of-type {\n",
       "        vertical-align: middle;\n",
       "    }\n",
       "\n",
       "    .dataframe tbody tr th {\n",
       "        vertical-align: top;\n",
       "    }\n",
       "\n",
       "    .dataframe thead th {\n",
       "        text-align: right;\n",
       "    }\n",
       "</style>\n",
       "<table border=\"1\" class=\"dataframe\">\n",
       "  <thead>\n",
       "    <tr style=\"text-align: right;\">\n",
       "      <th></th>\n",
       "      <th>Age</th>\n",
       "      <th>Watch_K-pop</th>\n",
       "      <th>use _social_media_actively</th>\n",
       "      <th>likes_bts</th>\n",
       "    </tr>\n",
       "  </thead>\n",
       "  <tbody>\n",
       "    <tr>\n",
       "      <th>0</th>\n",
       "      <td>33</td>\n",
       "      <td>1</td>\n",
       "      <td>1</td>\n",
       "      <td>1</td>\n",
       "    </tr>\n",
       "    <tr>\n",
       "      <th>1</th>\n",
       "      <td>38</td>\n",
       "      <td>0</td>\n",
       "      <td>1</td>\n",
       "      <td>0</td>\n",
       "    </tr>\n",
       "    <tr>\n",
       "      <th>2</th>\n",
       "      <td>32</td>\n",
       "      <td>1</td>\n",
       "      <td>1</td>\n",
       "      <td>1</td>\n",
       "    </tr>\n",
       "    <tr>\n",
       "      <th>3</th>\n",
       "      <td>56</td>\n",
       "      <td>0</td>\n",
       "      <td>0</td>\n",
       "      <td>0</td>\n",
       "    </tr>\n",
       "    <tr>\n",
       "      <th>4</th>\n",
       "      <td>64</td>\n",
       "      <td>0</td>\n",
       "      <td>0</td>\n",
       "      <td>0</td>\n",
       "    </tr>\n",
       "  </tbody>\n",
       "</table>\n",
       "</div>"
      ],
      "text/plain": [
       "   Age  Watch_K-pop  use _social_media_actively  likes_bts\n",
       "0   33            1                           1          1\n",
       "1   38            0                           1          0\n",
       "2   32            1                           1          1\n",
       "3   56            0                           0          0\n",
       "4   64            0                           0          0"
      ]
     },
     "execution_count": 10,
     "metadata": {},
     "output_type": "execute_result"
    }
   ],
   "source": [
    "df.head()"
   ]
  },
  {
   "cell_type": "code",
   "execution_count": 11,
   "id": "70942f85-5710-4169-a0af-6aa217113556",
   "metadata": {},
   "outputs": [
    {
     "data": {
      "image/png": "[encoded data removed]",
      "text/plain": [
       "<Figure size 2200x600 with 1 Axes>"
      ]
     },
     "metadata": {},
     "output_type": "display_data"
    }
   ],
   "source": [
    "plt.figure(figsize=(22,6))\n",
    "sns.scatterplot(x=df['Age'], y = df['likes_bts'])\n",
    "plt.show()"
   ]
  },
  {
   "cell_type": "markdown",
   "id": "9e79f7c5-03ed-47a0-8cd3-662e9136fcf1",
   "metadata": {},
   "source": [
    "Above saw the graph which make you understand more better way how age is related to the likeing the BTS though, in this dataset I may have did some mistake about the age when I was making it but for protoype I made this dataset though I will improve this dataset in the future but for now I made this to make you understand that age play the big role in our prediction model."
   ]
  },
  {
   "cell_type": "code",
   "execution_count": 12,
   "id": "648364f5-4c28-43e5-ad47-f349b5f6ea68",
   "metadata": {},
   "outputs": [],
   "source": [
    "x = df.drop(columns='likes_bts',axis=1)\n",
    "y = df['likes_bts']"
   ]
  },
  {
   "cell_type": "markdown",
   "id": "f3abeb02-ac30-46ae-83d2-d93d8c00e3b3",
   "metadata": {},
   "source": [
    "It's time for labeling the dataset and divide in to x and y, where x will contain the everything but the taget and y wil cantain only target which in this case is 'likes_bts' "
   ]
  },
  {
   "cell_type": "code",
   "execution_count": 13,
   "id": "b1844bb9-fa02-452d-a4eb-9bd7cda3539d",
   "metadata": {},
   "outputs": [
    {
     "name": "stdout",
     "output_type": "stream",
     "text": [
      "    Age  Watch_K-pop  use _social_media_actively\n",
      "0    33            1                           1\n",
      "1    38            0                           1\n",
      "2    32            1                           1\n",
      "3    56            0                           0\n",
      "4    64            0                           0\n",
      "..  ...          ...                         ...\n",
      "95   26            1                           1\n",
      "96   33            0                           1\n",
      "97   39            0                           0\n",
      "98   57            0                           0\n",
      "99   16            1                           1\n",
      "\n",
      "[100 rows x 3 columns]\n"
     ]
    }
   ],
   "source": [
    "print(x)"
   ]
  },
  {
   "cell_type": "code",
   "execution_count": 14,
   "id": "91af7d71-c167-47b7-8bbe-a663f038682d",
   "metadata": {},
   "outputs": [
    {
     "name": "stdout",
     "output_type": "stream",
     "text": [
      "0     1\n",
      "1     0\n",
      "2     1\n",
      "3     0\n",
      "4     0\n",
      "     ..\n",
      "95    1\n",
      "96    0\n",
      "97    0\n",
      "98    0\n",
      "99    1\n",
      "Name: likes_bts, Length: 100, dtype: int64\n"
     ]
    }
   ],
   "source": [
    "print(y)"
   ]
  },
  {
   "cell_type": "code",
   "execution_count": 15,
   "id": "4f08be5a-908c-4151-8194-410f9d67f5be",
   "metadata": {},
   "outputs": [
    {
     "data": {
      "text/html": [
       "<style>#sk-container-id-1 {color: black;}#sk-container-id-1 pre{padding: 0;}#sk-container-id-1 div.sk-toggleable {background-color: white;}#sk-container-id-1 label.sk-toggleable__label {cursor: pointer;display: block;width: 100%;margin-bottom: 0;padding: 0.3em;box-sizing: border-box;text-align: center;}#sk-container-id-1 label.sk-toggleable__label-arrow:before {content: \"▸\";float: left;margin-right: 0.25em;color: #696969;}#sk-container-id-1 label.sk-toggleable__label-arrow:hover:before {color: black;}#sk-container-id-1 div.sk-estimator:hover label.sk-toggleable__label-arrow:before {color: black;}#sk-container-id-1 div.sk-toggleable__content {max-height: 0;max-width: 0;overflow: hidden;text-align: left;background-color: #f0f8ff;}#sk-container-id-1 div.sk-toggleable__content pre {margin: 0.2em;color: black;border-radius: 0.25em;background-color: #f0f8ff;}#sk-container-id-1 input.sk-toggleable__control:checked~div.sk-toggleable__content {max-height: 200px;max-width: 100%;overflow: auto;}#sk-container-id-1 input.sk-toggleable__control:checked~label.sk-toggleable__label-arrow:before {content: \"▾\";}#sk-container-id-1 div.sk-estimator input.sk-toggleable__control:checked~label.sk-toggleable__label {background-color: #d4ebff;}#sk-container-id-1 div.sk-label input.sk-toggleable__control:checked~label.sk-toggleable__label {background-color: #d4ebff;}#sk-container-id-1 input.sk-hidden--visually {border: 0;clip: rect(1px 1px 1px 1px);clip: rect(1px, 1px, 1px, 1px);height: 1px;margin: -1px;overflow: hidden;padding: 0;position: absolute;width: 1px;}#sk-container-id-1 div.sk-estimator {font-family: monospace;background-color: #f0f8ff;border: 1px dotted black;border-radius: 0.25em;box-sizing: border-box;margin-bottom: 0.5em;}#sk-container-id-1 div.sk-estimator:hover {background-color: #d4ebff;}#sk-container-id-1 div.sk-parallel-item::after {content: \"\";width: 100%;border-bottom: 1px solid gray;flex-grow: 1;}#sk-container-id-1 div.sk-label:hover label.sk-toggleable__label {background-color: #d4ebff;}#sk-container-id-1 div.sk-serial::before {content: \"\";position: absolute;border-left: 1px solid gray;box-sizing: border-box;top: 0;bottom: 0;left: 50%;z-index: 0;}#sk-container-id-1 div.sk-serial {display: flex;flex-direction: column;align-items: center;background-color: white;padding-right: 0.2em;padding-left: 0.2em;position: relative;}#sk-container-id-1 div.sk-item {position: relative;z-index: 1;}#sk-container-id-1 div.sk-parallel {display: flex;align-items: stretch;justify-content: center;background-color: white;position: relative;}#sk-container-id-1 div.sk-item::before, #sk-container-id-1 div.sk-parallel-item::before {content: \"\";position: absolute;border-left: 1px solid gray;box-sizing: border-box;top: 0;bottom: 0;left: 50%;z-index: -1;}#sk-container-id-1 div.sk-parallel-item {display: flex;flex-direction: column;z-index: 1;position: relative;background-color: white;}#sk-container-id-1 div.sk-parallel-item:first-child::after {align-self: flex-end;width: 50%;}#sk-container-id-1 div.sk-parallel-item:last-child::after {align-self: flex-start;width: 50%;}#sk-container-id-1 div.sk-parallel-item:only-child::after {width: 0;}#sk-container-id-1 div.sk-dashed-wrapped {border: 1px dashed gray;margin: 0 0.4em 0.5em 0.4em;box-sizing: border-box;padding-bottom: 0.4em;background-color: white;}#sk-container-id-1 div.sk-label label {font-family: monospace;font-weight: bold;display: inline-block;line-height: 1.2em;}#sk-container-id-1 div.sk-label-container {text-align: center;}#sk-container-id-1 div.sk-container {/* jupyter's `normalize.less` sets `[hidden] { display: none; }` but bootstrap.min.css set `[hidden] { display: none !important; }` so we also need the `!important` here to be able to override the default hidden behavior on the sphinx rendered scikit-learn.org. See: https://github.com/scikit-learn/scikit-learn/issues/21755 */display: inline-block !important;position: relative;}#sk-container-id-1 div.sk-text-repr-fallback {display: none;}</style><div id=\"sk-container-id-1\" class=\"sk-top-container\"><div class=\"sk-text-repr-fallback\"><pre>StandardScaler()</pre><b>In a Jupyter environment, please rerun this cell to show the HTML representation or trust the notebook. <br />On GitHub, the HTML representation is unable to render, please try loading this page with nbviewer.org.</b></div><div class=\"sk-container\" hidden><div class=\"sk-item\"><div class=\"sk-estimator sk-toggleable\"><input class=\"sk-toggleable__control sk-hidden--visually\" id=\"sk-estimator-id-1\" type=\"checkbox\" checked><label for=\"sk-estimator-id-1\" class=\"sk-toggleable__label sk-toggleable__label-arrow\">StandardScaler</label><div class=\"sk-toggleable__content\"><pre>StandardScaler()</pre></div></div></div></div></div>"
      ],
      "text/plain": [
       "StandardScaler()"
      ]
     },
     "execution_count": 15,
     "metadata": {},
     "output_type": "execute_result"
    }
   ],
   "source": [
    "scaller = StandardScaler()\n",
    "scaller.fit(x)"
   ]
  },
  {
   "cell_type": "markdown",
   "id": "062c8d43-a255-4538-9d58-f02c42761da9",
   "metadata": {},
   "source": [
    "First we can't proceed before scalling our data, why you might ask, because it helps the computer to understand data better and make a better pridiction model based on scalled data.\n",
    "And for that we use StandardScaler to scalling our data"
   ]
  },
  {
   "cell_type": "code",
   "execution_count": 16,
   "id": "0daa567b-c668-4faf-a20d-e3975f7cd949",
   "metadata": {},
   "outputs": [],
   "source": [
    "standerd_scaller = scaller.transform(x)"
   ]
  },
  {
   "cell_type": "code",
   "execution_count": 17,
   "id": "4d4a1537-119c-4ded-ae58-dbb609ee7f17",
   "metadata": {},
   "outputs": [
    {
     "name": "stdout",
     "output_type": "stream",
     "text": [
      "[[-0.58708446  1.040833    0.98019606]\n",
      " [-0.20783093 -0.96076892  0.98019606]\n",
      " [-0.66293516  1.040833    0.98019606]\n",
      " [ 1.15748176 -0.96076892 -1.02020406]\n",
      " [ 1.7642874  -0.96076892 -1.02020406]\n",
      " [-1.2697408   1.040833    0.98019606]\n",
      " [-1.04218869  1.040833    0.98019606]\n",
      " [ 1.15748176  1.040833   -1.02020406]\n",
      " [-0.81463657 -0.96076892  0.98019606]\n",
      " [ 0.62652682  1.040833   -1.02020406]\n",
      " [ 1.00578035 -0.96076892 -1.02020406]\n",
      " [-0.51123375  1.040833    0.98019606]\n",
      " [ 1.53673528 -0.96076892 -1.02020406]\n",
      " [-0.13198023  1.040833   -1.02020406]\n",
      " [-1.1938901   1.040833    0.98019606]\n",
      " [ 0.70237753 -0.96076892  0.98019606]\n",
      " [ 1.46088458 -0.96076892 -1.02020406]\n",
      " [ 1.68843669 -0.96076892 -1.02020406]\n",
      " [ 0.55067612 -0.96076892  0.98019606]\n",
      " [ 0.77822823 -0.96076892 -1.02020406]\n",
      " [-0.05612952  1.040833    0.98019606]\n",
      " [-1.57314362  1.040833    0.98019606]\n",
      " [-0.13198023  1.040833   -1.02020406]\n",
      " [-0.89048728  1.040833    0.98019606]\n",
      " [-0.13198023 -0.96076892  0.98019606]\n",
      " [-1.2697408   1.040833    0.98019606]\n",
      " [-0.81463657 -0.96076892  0.98019606]\n",
      " [-0.13198023  1.040833   -1.02020406]\n",
      " [ 0.01972118 -0.96076892 -1.02020406]\n",
      " [ 0.92992964 -0.96076892 -1.02020406]\n",
      " [-0.05612952 -0.96076892  0.98019606]\n",
      " [ 1.61258599 -0.96076892 -1.02020406]\n",
      " [-1.11803939  1.040833    0.98019606]\n",
      " [-1.87654644  1.040833    0.98019606]\n",
      " [ 0.55067612 -0.96076892 -1.02020406]\n",
      " [-0.43538305  1.040833    0.98019606]\n",
      " [ 0.55067612 -0.96076892 -1.02020406]\n",
      " [ 0.92992964 -0.96076892 -1.02020406]\n",
      " [ 0.09557189  1.040833    0.98019606]\n",
      " [ 0.92992964 -0.96076892 -1.02020406]\n",
      " [-0.81463657  1.040833    0.98019606]\n",
      " [ 0.70237753 -0.96076892 -1.02020406]\n",
      " [-0.89048728 -0.96076892  0.98019606]\n",
      " [-0.35953234  1.040833   -1.02020406]\n",
      " [-0.96633798 -0.96076892  0.98019606]\n",
      " [-0.73878587 -0.96076892 -1.02020406]\n",
      " [ 0.47482541  1.040833   -1.02020406]\n",
      " [-0.13198023  1.040833   -1.02020406]\n",
      " [-0.28368164  1.040833    0.98019606]\n",
      " [ 0.323124   -0.96076892 -1.02020406]\n",
      " [ 1.68843669 -0.96076892 -1.02020406]\n",
      " [-0.66293516  1.040833    0.98019606]\n",
      " [-0.51123375  1.040833    0.98019606]\n",
      " [-0.58708446  1.040833    0.98019606]\n",
      " [ 1.7642874  -0.96076892 -1.02020406]\n",
      " [-0.89048728  1.040833    0.98019606]\n",
      " [-1.42144221 -0.96076892  0.98019606]\n",
      " [-1.11803939  1.040833    0.98019606]\n",
      " [ 0.85407894 -0.96076892 -1.02020406]\n",
      " [ 1.38503387 -0.96076892 -1.02020406]\n",
      " [ 1.30918317 -0.96076892  0.98019606]\n",
      " [ 1.23333246 -0.96076892 -1.02020406]\n",
      " [-0.20783093  1.040833   -1.02020406]\n",
      " [-1.2697408   1.040833    0.98019606]\n",
      " [ 0.85407894 -0.96076892 -1.02020406]\n",
      " [ 1.08163105 -0.96076892 -1.02020406]\n",
      " [ 0.323124    1.040833    0.98019606]\n",
      " [ 0.2472733  -0.96076892  0.98019606]\n",
      " [ 0.77822823  1.040833   -1.02020406]\n",
      " [-0.96633798  1.040833    0.98019606]\n",
      " [-0.81463657  1.040833    0.98019606]\n",
      " [-0.43538305 -0.96076892  0.98019606]\n",
      " [-0.35953234  1.040833   -1.02020406]\n",
      " [ 0.39897471 -0.96076892 -1.02020406]\n",
      " [ 1.30918317 -0.96076892 -1.02020406]\n",
      " [-0.58708446  1.040833    0.98019606]\n",
      " [-0.89048728  1.040833    0.98019606]\n",
      " [ 1.23333246 -0.96076892 -1.02020406]\n",
      " [-0.58708446  1.040833    0.98019606]\n",
      " [-0.66293516  1.040833   -1.02020406]\n",
      " [-1.04218869  1.040833    0.98019606]\n",
      " [ 1.53673528 -0.96076892 -1.02020406]\n",
      " [-0.58708446  1.040833    0.98019606]\n",
      " [-1.57314362  1.040833    0.98019606]\n",
      " [ 0.39897471 -0.96076892 -1.02020406]\n",
      " [-1.87654644  1.040833    0.98019606]\n",
      " [ 1.7642874  -0.96076892 -1.02020406]\n",
      " [-0.58708446 -0.96076892  0.98019606]\n",
      " [ 0.77822823 -0.96076892 -1.02020406]\n",
      " [ 1.68843669 -0.96076892 -1.02020406]\n",
      " [ 0.77822823 -0.96076892 -1.02020406]\n",
      " [ 0.39897471 -0.96076892 -1.02020406]\n",
      " [-1.72484503  1.040833    0.98019606]\n",
      " [ 0.77822823 -0.96076892 -1.02020406]\n",
      " [-1.1938901   1.040833    0.98019606]\n",
      " [-1.11803939  1.040833    0.98019606]\n",
      " [-0.58708446 -0.96076892  0.98019606]\n",
      " [-0.13198023 -0.96076892 -1.02020406]\n",
      " [ 1.23333246 -0.96076892 -1.02020406]\n",
      " [-1.87654644  1.040833    0.98019606]]\n"
     ]
    }
   ],
   "source": [
    "print(standerd_scaller)"
   ]
  },
  {
   "cell_type": "code",
   "execution_count": 18,
   "id": "588706e6-2a45-4d94-9bda-d1e23dfad3be",
   "metadata": {},
   "outputs": [],
   "source": [
    "x = standerd_scaller\n",
    "y = df['likes_bts']"
   ]
  },
  {
   "cell_type": "code",
   "execution_count": 19,
   "id": "45d85857-833a-445f-8c79-72364f9772d8",
   "metadata": {},
   "outputs": [],
   "source": [
    "x_train, x_test, y_train, y_test = train_test_split(x, y, test_size=0.2, random_state=42)"
   ]
  },
  {
   "cell_type": "markdown",
   "id": "b05472de-729c-44ad-b061-89c960f164e6",
   "metadata": {},
   "source": [
    "Above you can see that this is time for traing and testing the data for that we need to split the dataset into traing and testing dataset"
   ]
  },
  {
   "cell_type": "code",
   "execution_count": 20,
   "id": "fcab4c9d-a6f5-417c-a9cb-846aca1a442b",
   "metadata": {},
   "outputs": [
    {
     "name": "stdout",
     "output_type": "stream",
     "text": [
      "(100, 3) (80, 3) (20, 3)\n"
     ]
    }
   ],
   "source": [
    "print(x.shape, x_train.shape, x_test.shape)"
   ]
  },
  {
   "cell_type": "code",
   "execution_count": 21,
   "id": "0959bcd3-61b6-432a-8f54-5be532386fd6",
   "metadata": {},
   "outputs": [
    {
     "data": {
      "text/html": [
       "<style>#sk-container-id-2 {color: black;}#sk-container-id-2 pre{padding: 0;}#sk-container-id-2 div.sk-toggleable {background-color: white;}#sk-container-id-2 label.sk-toggleable__label {cursor: pointer;display: block;width: 100%;margin-bottom: 0;padding: 0.3em;box-sizing: border-box;text-align: center;}#sk-container-id-2 label.sk-toggleable__label-arrow:before {content: \"▸\";float: left;margin-right: 0.25em;color: #696969;}#sk-container-id-2 label.sk-toggleable__label-arrow:hover:before {color: black;}#sk-container-id-2 div.sk-estimator:hover label.sk-toggleable__label-arrow:before {color: black;}#sk-container-id-2 div.sk-toggleable__content {max-height: 0;max-width: 0;overflow: hidden;text-align: left;background-color: #f0f8ff;}#sk-container-id-2 div.sk-toggleable__content pre {margin: 0.2em;color: black;border-radius: 0.25em;background-color: #f0f8ff;}#sk-container-id-2 input.sk-toggleable__control:checked~div.sk-toggleable__content {max-height: 200px;max-width: 100%;overflow: auto;}#sk-container-id-2 input.sk-toggleable__control:checked~label.sk-toggleable__label-arrow:before {content: \"▾\";}#sk-container-id-2 div.sk-estimator input.sk-toggleable__control:checked~label.sk-toggleable__label {background-color: #d4ebff;}#sk-container-id-2 div.sk-label input.sk-toggleable__control:checked~label.sk-toggleable__label {background-color: #d4ebff;}#sk-container-id-2 input.sk-hidden--visually {border: 0;clip: rect(1px 1px 1px 1px);clip: rect(1px, 1px, 1px, 1px);height: 1px;margin: -1px;overflow: hidden;padding: 0;position: absolute;width: 1px;}#sk-container-id-2 div.sk-estimator {font-family: monospace;background-color: #f0f8ff;border: 1px dotted black;border-radius: 0.25em;box-sizing: border-box;margin-bottom: 0.5em;}#sk-container-id-2 div.sk-estimator:hover {background-color: #d4ebff;}#sk-container-id-2 div.sk-parallel-item::after {content: \"\";width: 100%;border-bottom: 1px solid gray;flex-grow: 1;}#sk-container-id-2 div.sk-label:hover label.sk-toggleable__label {background-color: #d4ebff;}#sk-container-id-2 div.sk-serial::before {content: \"\";position: absolute;border-left: 1px solid gray;box-sizing: border-box;top: 0;bottom: 0;left: 50%;z-index: 0;}#sk-container-id-2 div.sk-serial {display: flex;flex-direction: column;align-items: center;background-color: white;padding-right: 0.2em;padding-left: 0.2em;position: relative;}#sk-container-id-2 div.sk-item {position: relative;z-index: 1;}#sk-container-id-2 div.sk-parallel {display: flex;align-items: stretch;justify-content: center;background-color: white;position: relative;}#sk-container-id-2 div.sk-item::before, #sk-container-id-2 div.sk-parallel-item::before {content: \"\";position: absolute;border-left: 1px solid gray;box-sizing: border-box;top: 0;bottom: 0;left: 50%;z-index: -1;}#sk-container-id-2 div.sk-parallel-item {display: flex;flex-direction: column;z-index: 1;position: relative;background-color: white;}#sk-container-id-2 div.sk-parallel-item:first-child::after {align-self: flex-end;width: 50%;}#sk-container-id-2 div.sk-parallel-item:last-child::after {align-self: flex-start;width: 50%;}#sk-container-id-2 div.sk-parallel-item:only-child::after {width: 0;}#sk-container-id-2 div.sk-dashed-wrapped {border: 1px dashed gray;margin: 0 0.4em 0.5em 0.4em;box-sizing: border-box;padding-bottom: 0.4em;background-color: white;}#sk-container-id-2 div.sk-label label {font-family: monospace;font-weight: bold;display: inline-block;line-height: 1.2em;}#sk-container-id-2 div.sk-label-container {text-align: center;}#sk-container-id-2 div.sk-container {/* jupyter's `normalize.less` sets `[hidden] { display: none; }` but bootstrap.min.css set `[hidden] { display: none !important; }` so we also need the `!important` here to be able to override the default hidden behavior on the sphinx rendered scikit-learn.org. See: https://github.com/scikit-learn/scikit-learn/issues/21755 */display: inline-block !important;position: relative;}#sk-container-id-2 div.sk-text-repr-fallback {display: none;}</style><div id=\"sk-container-id-2\" class=\"sk-top-container\"><div class=\"sk-text-repr-fallback\"><pre>LogisticRegression()</pre><b>In a Jupyter environment, please rerun this cell to show the HTML representation or trust the notebook. <br />On GitHub, the HTML representation is unable to render, please try loading this page with nbviewer.org.</b></div><div class=\"sk-container\" hidden><div class=\"sk-item\"><div class=\"sk-estimator sk-toggleable\"><input class=\"sk-toggleable__control sk-hidden--visually\" id=\"sk-estimator-id-2\" type=\"checkbox\" checked><label for=\"sk-estimator-id-2\" class=\"sk-toggleable__label sk-toggleable__label-arrow\">LogisticRegression</label><div class=\"sk-toggleable__content\"><pre>LogisticRegression()</pre></div></div></div></div></div>"
      ],
      "text/plain": [
       "LogisticRegression()"
      ]
     },
     "execution_count": 21,
     "metadata": {},
     "output_type": "execute_result"
    }
   ],
   "source": [
    "model_1 = LogisticRegression()\n",
    "model_1.fit(x_train, y_train)"
   ]
  },
  {
   "cell_type": "markdown",
   "id": "20258fa7-1571-4329-afea-139e4ad9c5bf",
   "metadata": {},
   "source": [
    "Above you can see we used the logestic Regression classifier as model_1 "
   ]
  },
  {
   "cell_type": "code",
   "execution_count": 22,
   "id": "b9387980-a645-4d6e-aa25-0c3aaf9721fc",
   "metadata": {},
   "outputs": [
    {
     "name": "stdout",
     "output_type": "stream",
     "text": [
      "Accuracy score for x_train:  0.975\n",
      "Accuracy score for x_test:  0.95\n"
     ]
    }
   ],
   "source": [
    "pred_x_train = model_1.predict(x_train)\n",
    "accuracy_x_train = accuracy_score(pred_x_train, y_train)\n",
    "pred_x_test = model_1.predict(x_test)\n",
    "accuracy_x_test = accuracy_score(pred_x_test, y_test)\n",
    "print('Accuracy score for x_train: ', accuracy_x_train)\n",
    "print('Accuracy score for x_test: ', accuracy_x_test)"
   ]
  },
  {
   "cell_type": "markdown",
   "id": "64ba4b1c-b0b1-45dd-ba67-4623e670555f",
   "metadata": {},
   "source": [
    "Here you see Accuracy score for model_1 how well is performing."
   ]
  },
  {
   "cell_type": "code",
   "execution_count": 23,
   "id": "ef5a0c36-ca26-409a-877d-0d8f0c4e8a2a",
   "metadata": {},
   "outputs": [
    {
     "data": {
      "text/html": [
       "<style>#sk-container-id-3 {color: black;}#sk-container-id-3 pre{padding: 0;}#sk-container-id-3 div.sk-toggleable {background-color: white;}#sk-container-id-3 label.sk-toggleable__label {cursor: pointer;display: block;width: 100%;margin-bottom: 0;padding: 0.3em;box-sizing: border-box;text-align: center;}#sk-container-id-3 label.sk-toggleable__label-arrow:before {content: \"▸\";float: left;margin-right: 0.25em;color: #696969;}#sk-container-id-3 label.sk-toggleable__label-arrow:hover:before {color: black;}#sk-container-id-3 div.sk-estimator:hover label.sk-toggleable__label-arrow:before {color: black;}#sk-container-id-3 div.sk-toggleable__content {max-height: 0;max-width: 0;overflow: hidden;text-align: left;background-color: #f0f8ff;}#sk-container-id-3 div.sk-toggleable__content pre {margin: 0.2em;color: black;border-radius: 0.25em;background-color: #f0f8ff;}#sk-container-id-3 input.sk-toggleable__control:checked~div.sk-toggleable__content {max-height: 200px;max-width: 100%;overflow: auto;}#sk-container-id-3 input.sk-toggleable__control:checked~label.sk-toggleable__label-arrow:before {content: \"▾\";}#sk-container-id-3 div.sk-estimator input.sk-toggleable__control:checked~label.sk-toggleable__label {background-color: #d4ebff;}#sk-container-id-3 div.sk-label input.sk-toggleable__control:checked~label.sk-toggleable__label {background-color: #d4ebff;}#sk-container-id-3 input.sk-hidden--visually {border: 0;clip: rect(1px 1px 1px 1px);clip: rect(1px, 1px, 1px, 1px);height: 1px;margin: -1px;overflow: hidden;padding: 0;position: absolute;width: 1px;}#sk-container-id-3 div.sk-estimator {font-family: monospace;background-color: #f0f8ff;border: 1px dotted black;border-radius: 0.25em;box-sizing: border-box;margin-bottom: 0.5em;}#sk-container-id-3 div.sk-estimator:hover {background-color: #d4ebff;}#sk-container-id-3 div.sk-parallel-item::after {content: \"\";width: 100%;border-bottom: 1px solid gray;flex-grow: 1;}#sk-container-id-3 div.sk-label:hover label.sk-toggleable__label {background-color: #d4ebff;}#sk-container-id-3 div.sk-serial::before {content: \"\";position: absolute;border-left: 1px solid gray;box-sizing: border-box;top: 0;bottom: 0;left: 50%;z-index: 0;}#sk-container-id-3 div.sk-serial {display: flex;flex-direction: column;align-items: center;background-color: white;padding-right: 0.2em;padding-left: 0.2em;position: relative;}#sk-container-id-3 div.sk-item {position: relative;z-index: 1;}#sk-container-id-3 div.sk-parallel {display: flex;align-items: stretch;justify-content: center;background-color: white;position: relative;}#sk-container-id-3 div.sk-item::before, #sk-container-id-3 div.sk-parallel-item::before {content: \"\";position: absolute;border-left: 1px solid gray;box-sizing: border-box;top: 0;bottom: 0;left: 50%;z-index: -1;}#sk-container-id-3 div.sk-parallel-item {display: flex;flex-direction: column;z-index: 1;position: relative;background-color: white;}#sk-container-id-3 div.sk-parallel-item:first-child::after {align-self: flex-end;width: 50%;}#sk-container-id-3 div.sk-parallel-item:last-child::after {align-self: flex-start;width: 50%;}#sk-container-id-3 div.sk-parallel-item:only-child::after {width: 0;}#sk-container-id-3 div.sk-dashed-wrapped {border: 1px dashed gray;margin: 0 0.4em 0.5em 0.4em;box-sizing: border-box;padding-bottom: 0.4em;background-color: white;}#sk-container-id-3 div.sk-label label {font-family: monospace;font-weight: bold;display: inline-block;line-height: 1.2em;}#sk-container-id-3 div.sk-label-container {text-align: center;}#sk-container-id-3 div.sk-container {/* jupyter's `normalize.less` sets `[hidden] { display: none; }` but bootstrap.min.css set `[hidden] { display: none !important; }` so we also need the `!important` here to be able to override the default hidden behavior on the sphinx rendered scikit-learn.org. See: https://github.com/scikit-learn/scikit-learn/issues/21755 */display: inline-block !important;position: relative;}#sk-container-id-3 div.sk-text-repr-fallback {display: none;}</style><div id=\"sk-container-id-3\" class=\"sk-top-container\"><div class=\"sk-text-repr-fallback\"><pre>SVC(kernel=&#x27;linear&#x27;)</pre><b>In a Jupyter environment, please rerun this cell to show the HTML representation or trust the notebook. <br />On GitHub, the HTML representation is unable to render, please try loading this page with nbviewer.org.</b></div><div class=\"sk-container\" hidden><div class=\"sk-item\"><div class=\"sk-estimator sk-toggleable\"><input class=\"sk-toggleable__control sk-hidden--visually\" id=\"sk-estimator-id-3\" type=\"checkbox\" checked><label for=\"sk-estimator-id-3\" class=\"sk-toggleable__label sk-toggleable__label-arrow\">SVC</label><div class=\"sk-toggleable__content\"><pre>SVC(kernel=&#x27;linear&#x27;)</pre></div></div></div></div></div>"
      ],
      "text/plain": [
       "SVC(kernel='linear')"
      ]
     },
     "execution_count": 23,
     "metadata": {},
     "output_type": "execute_result"
    }
   ],
   "source": [
    "model_2 = svm.SVC(kernel='linear')\n",
    "model_2.fit(x_train, y_train)"
   ]
  },
  {
   "cell_type": "markdown",
   "id": "47f2f35c-7504-4b4d-b1ea-ba9596693e86",
   "metadata": {},
   "source": [
    "Above you can see we used the logestic Regression classifier as model_2"
   ]
  },
  {
   "cell_type": "code",
   "execution_count": 24,
   "id": "d3054941-d2b3-40e8-9af4-c4df8d1d6e73",
   "metadata": {},
   "outputs": [
    {
     "name": "stdout",
     "output_type": "stream",
     "text": [
      "Accuracy score for x_train model_2:  0.975\n",
      "Accuracy score for x_test model_2:  0.95\n"
     ]
    }
   ],
   "source": [
    "pred_x_train_2 = model_2.predict(x_train)\n",
    "accuracy_x_train_2 = accuracy_score(pred_x_train_2, y_train)\n",
    "pred_x_test_2 = model_2.predict(x_test)\n",
    "accuracy_x_test_2 = accuracy_score(pred_x_test_2, y_test)\n",
    "print('Accuracy score for x_train model_2: ', accuracy_x_train_2)\n",
    "print('Accuracy score for x_test model_2: ', accuracy_x_test_2)"
   ]
  },
  {
   "cell_type": "markdown",
   "id": "f5292986-3987-4b12-ab51-8643c643f01e",
   "metadata": {},
   "source": [
    "Here you see Accuracy score for model_2 how well is performing."
   ]
  },
  {
   "cell_type": "code",
   "execution_count": 25,
   "id": "40f493d5-2351-4e49-b883-b5bc27117e11",
   "metadata": {},
   "outputs": [
    {
     "name": "stdout",
     "output_type": "stream",
     "text": [
      "[[12  1]\n",
      " [ 0  7]]\n"
     ]
    }
   ],
   "source": [
    "from sklearn.metrics import confusion_matrix\n",
    "print(confusion_matrix(y_test, pred_x_test_2))"
   ]
  },
  {
   "cell_type": "markdown",
   "id": "ed9beb8b-ed56-468e-b109-7083c45211ed",
   "metadata": {},
   "source": [
    "Use confusion matrix to check the how many predicted value are true and false respected to there nature weather it's Positive or Negative."
   ]
  },
  {
   "cell_type": "code",
   "execution_count": 30,
   "id": "6854d256-e633-4c95-87a3-4ad5e3ec26dd",
   "metadata": {},
   "outputs": [
    {
     "data": {
      "text/html": [
       "<div>\n",
       "<style scoped>\n",
       "    .dataframe tbody tr th:only-of-type {\n",
       "        vertical-align: middle;\n",
       "    }\n",
       "\n",
       "    .dataframe tbody tr th {\n",
       "        vertical-align: top;\n",
       "    }\n",
       "\n",
       "    .dataframe thead th {\n",
       "        text-align: right;\n",
       "    }\n",
       "</style>\n",
       "<table border=\"1\" class=\"dataframe\">\n",
       "  <thead>\n",
       "    <tr style=\"text-align: right;\">\n",
       "      <th></th>\n",
       "      <th>Age</th>\n",
       "      <th>Watch_K-pop</th>\n",
       "      <th>use _social_media_actively</th>\n",
       "      <th>likes_bts</th>\n",
       "    </tr>\n",
       "  </thead>\n",
       "  <tbody>\n",
       "    <tr>\n",
       "      <th>63</th>\n",
       "      <td>24</td>\n",
       "      <td>1</td>\n",
       "      <td>1</td>\n",
       "      <td>1</td>\n",
       "    </tr>\n",
       "    <tr>\n",
       "      <th>67</th>\n",
       "      <td>44</td>\n",
       "      <td>0</td>\n",
       "      <td>1</td>\n",
       "      <td>0</td>\n",
       "    </tr>\n",
       "    <tr>\n",
       "      <th>5</th>\n",
       "      <td>24</td>\n",
       "      <td>1</td>\n",
       "      <td>1</td>\n",
       "      <td>1</td>\n",
       "    </tr>\n",
       "    <tr>\n",
       "      <th>0</th>\n",
       "      <td>33</td>\n",
       "      <td>1</td>\n",
       "      <td>1</td>\n",
       "      <td>1</td>\n",
       "    </tr>\n",
       "    <tr>\n",
       "      <th>2</th>\n",
       "      <td>32</td>\n",
       "      <td>1</td>\n",
       "      <td>1</td>\n",
       "      <td>1</td>\n",
       "    </tr>\n",
       "    <tr>\n",
       "      <th>35</th>\n",
       "      <td>35</td>\n",
       "      <td>1</td>\n",
       "      <td>1</td>\n",
       "      <td>1</td>\n",
       "    </tr>\n",
       "    <tr>\n",
       "      <th>36</th>\n",
       "      <td>48</td>\n",
       "      <td>0</td>\n",
       "      <td>0</td>\n",
       "      <td>0</td>\n",
       "    </tr>\n",
       "    <tr>\n",
       "      <th>68</th>\n",
       "      <td>51</td>\n",
       "      <td>1</td>\n",
       "      <td>0</td>\n",
       "      <td>0</td>\n",
       "    </tr>\n",
       "    <tr>\n",
       "      <th>52</th>\n",
       "      <td>34</td>\n",
       "      <td>1</td>\n",
       "      <td>1</td>\n",
       "      <td>1</td>\n",
       "    </tr>\n",
       "    <tr>\n",
       "      <th>34</th>\n",
       "      <td>48</td>\n",
       "      <td>0</td>\n",
       "      <td>0</td>\n",
       "      <td>0</td>\n",
       "    </tr>\n",
       "  </tbody>\n",
       "</table>\n",
       "</div>"
      ],
      "text/plain": [
       "    Age  Watch_K-pop  use _social_media_actively  likes_bts\n",
       "63   24            1                           1          1\n",
       "67   44            0                           1          0\n",
       "5    24            1                           1          1\n",
       "0    33            1                           1          1\n",
       "2    32            1                           1          1\n",
       "35   35            1                           1          1\n",
       "36   48            0                           0          0\n",
       "68   51            1                           0          0\n",
       "52   34            1                           1          1\n",
       "34   48            0                           0          0"
      ]
     },
     "execution_count": 30,
     "metadata": {},
     "output_type": "execute_result"
    }
   ],
   "source": [
    "df.sample(10)"
   ]
  },
  {
   "cell_type": "code",
   "execution_count": 31,
   "id": "1f53b082-54c1-423f-9de5-20ed560f1397",
   "metadata": {},
   "outputs": [
    {
     "name": "stdout",
     "output_type": "stream",
     "text": [
      "[1 0 0 0 1 0 1 0 0 1 1 1 1 0 0 1 1 0 1 0 0 0 0 1 1 0 0 1 1 1 0 0 0 1 0 1 1\n",
      " 0 0 0 1 1 0 1 0 0 0 0 0 0 1 0 0 1 0 1 1 1 1 0 1 0 0 0 0 1 1 1 1 0 0 0 0 1\n",
      " 1 0 0 1 1 1]\n"
     ]
    }
   ],
   "source": [
    "predic = model_1.predict(x_train)\n",
    "print(predic)"
   ]
  },
  {
   "cell_type": "markdown",
   "id": "d2bc5a3c-2446-4d09-9c8a-cca876fbb766",
   "metadata": {},
   "source": [
    "We chose the model_1 though it's have same prediction accuracy as model_2, so you can chose anyone."
   ]
  },
  {
   "cell_type": "code",
   "execution_count": 32,
   "id": "97aaec3d-32bd-4b49-911e-0d466842c72e",
   "metadata": {},
   "outputs": [
    {
     "data": {
      "text/html": [
       "<div>\n",
       "<style scoped>\n",
       "    .dataframe tbody tr th:only-of-type {\n",
       "        vertical-align: middle;\n",
       "    }\n",
       "\n",
       "    .dataframe tbody tr th {\n",
       "        vertical-align: top;\n",
       "    }\n",
       "\n",
       "    .dataframe thead th {\n",
       "        text-align: right;\n",
       "    }\n",
       "</style>\n",
       "<table border=\"1\" class=\"dataframe\">\n",
       "  <thead>\n",
       "    <tr style=\"text-align: right;\">\n",
       "      <th></th>\n",
       "      <th>Age</th>\n",
       "      <th>Watch_K-pop</th>\n",
       "      <th>use _social_media_actively</th>\n",
       "      <th>likes_bts</th>\n",
       "    </tr>\n",
       "  </thead>\n",
       "  <tbody>\n",
       "    <tr>\n",
       "      <th>50</th>\n",
       "      <td>63</td>\n",
       "      <td>0</td>\n",
       "      <td>0</td>\n",
       "      <td>0</td>\n",
       "    </tr>\n",
       "    <tr>\n",
       "      <th>78</th>\n",
       "      <td>33</td>\n",
       "      <td>1</td>\n",
       "      <td>1</td>\n",
       "      <td>1</td>\n",
       "    </tr>\n",
       "    <tr>\n",
       "      <th>47</th>\n",
       "      <td>39</td>\n",
       "      <td>1</td>\n",
       "      <td>0</td>\n",
       "      <td>1</td>\n",
       "    </tr>\n",
       "    <tr>\n",
       "      <th>42</th>\n",
       "      <td>29</td>\n",
       "      <td>0</td>\n",
       "      <td>1</td>\n",
       "      <td>0</td>\n",
       "    </tr>\n",
       "    <tr>\n",
       "      <th>18</th>\n",
       "      <td>48</td>\n",
       "      <td>0</td>\n",
       "      <td>1</td>\n",
       "      <td>0</td>\n",
       "    </tr>\n",
       "  </tbody>\n",
       "</table>\n",
       "</div>"
      ],
      "text/plain": [
       "    Age  Watch_K-pop  use _social_media_actively  likes_bts\n",
       "50   63            0                           0          0\n",
       "78   33            1                           1          1\n",
       "47   39            1                           0          1\n",
       "42   29            0                           1          0\n",
       "18   48            0                           1          0"
      ]
     },
     "execution_count": 32,
     "metadata": {},
     "output_type": "execute_result"
    }
   ],
   "source": [
    "df.sample(5)"
   ]
  },
  {
   "cell_type": "code",
   "execution_count": 33,
   "id": "a177de7d-87e9-4d44-a8ea-11b00b46151e",
   "metadata": {},
   "outputs": [
    {
     "name": "stdout",
     "output_type": "stream",
     "text": [
      "Yes she likes BTS!\n"
     ]
    },
    {
     "name": "stderr",
     "output_type": "stream",
     "text": [
      "C:\\Users\\PMYLS\\anaconda3\\Lib\\site-packages\\sklearn\\base.py:464: UserWarning: X does not have valid feature names, but StandardScaler was fitted with feature names\n",
      "  warnings.warn(\n"
     ]
    }
   ],
   "source": [
    "input_data = (25,1,1)\n",
    "id_to_array = np.asarray(input_data)\n",
    "id_reshaped = id_to_array.reshape(1,-1)\n",
    "std_data = scaller.transform(id_reshaped)\n",
    "pred = model_1.predict(std_data)\n",
    "if (pred[0] == 1):\n",
    "    print('Yes she likes BTS!')\n",
    "else:\n",
    "    print('No, she not likes BTS!')"
   ]
  },
  {
   "cell_type": "markdown",
   "id": "658a4de7-13d5-49bf-9599-29167a8018b1",
   "metadata": {},
   "source": [
    "#Here we have our final product ready, we can provide the input data from dataset or give it any random value or you can test it on someone you know, to find out she really likes the BTS or not, but Note that this model is not perfect, it will improve more in future."
   ]
  },
  {
   "cell_type": "code",
   "execution_count": null,
   "id": "a226bfeb-215a-4c24-8335-965bf1779dc9",
   "metadata": {},
   "outputs": [],
   "source": []
  },
  {
   "cell_type": "code",
   "execution_count": null,
   "id": "6fb11401-2f17-4e9b-a81d-5edae6e05e7c",
   "metadata": {},
   "outputs": [],
   "source": []
  },
  {
   "cell_type": "code",
   "execution_count": null,
   "id": "58073607-7670-4cc4-b03e-c69088103fb4",
   "metadata": {},
   "outputs": [],
   "source": []
  },
  {
   "cell_type": "code",
   "execution_count": null,
   "id": "b75ab69f-dab9-4d72-9278-919c5ce65aa4",
   "metadata": {},
   "outputs": [],
   "source": []
  },
  {
   "cell_type": "code",
   "execution_count": null,
   "id": "65a645c7-a2e9-42ae-a496-e6b4b494d5f5",
   "metadata": {},
   "outputs": [],
   "source": []
  },
  {
   "cell_type": "code",
   "execution_count": null,
   "id": "1a8162ca-924a-4bc3-be9a-f9e7875c1efa",
   "metadata": {},
   "outputs": [],
   "source": []
  },
  {
   "cell_type": "code",
   "execution_count": null,
   "id": "6d4283f3-15c8-4890-8a55-aa7d26bd8322",
   "metadata": {},
   "outputs": [],
   "source": []
  },
  {
   "cell_type": "code",
   "execution_count": null,
   "id": "2693bbbe-d993-4b40-b2d8-fb95aaa5580d",
   "metadata": {},
   "outputs": [],
   "source": []
  }
 ],
 "metadata": {
  "kernelspec": {
   "display_name": "Python 3 (ipykernel)",
   "language": "python",
   "name": "python3"
  },
  "language_info": {
   "codemirror_mode": {
    "name": "ipython",
    "version": 3
   },
   "file_extension": ".py",
   "mimetype": "text/x-python",
   "name": "python",
   "nbconvert_exporter": "python",
   "pygments_lexer": "ipython3",
   "version": "3.11.5"
  }
 },
 "nbformat": 4,
 "nbformat_minor": 5
}
